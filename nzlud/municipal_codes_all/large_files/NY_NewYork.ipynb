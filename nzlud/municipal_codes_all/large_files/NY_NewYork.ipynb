{
 "cells": [
  {
   "cell_type": "code",
   "execution_count": 14,
   "metadata": {},
   "outputs": [],
   "source": [
    "# Define the filenames of the files to be combined\n",
    "filenames = ['NY_NewYork01.txt', 'NY_NewYork02.txt', 'NY_NewYork03.txt']\n",
    "\n",
    "# Open the output file in write mode, specifying UTF-8 encoding\n",
    "with open('New_Line_NY_NewYork.txt', 'w', encoding='utf-8') as outfile:\n",
    "    # Iterate through the list of files\n",
    "    for fname in filenames:\n",
    "        # Open each file in read mode, specifying UTF-8 encoding\n",
    "        with open(fname, encoding='utf-8') as infile:\n",
    "            # Read the content of the file and write it to the output file\n",
    "            outfile.write(infile.read())\n",
    "            # Optionally, write a newline character after each file's content\n",
    "            outfile.write('\\n')"
   ]
  },
  {
   "cell_type": "code",
   "execution_count": 15,
   "metadata": {},
   "outputs": [],
   "source": [
    "# Define the filenames of the files to be combined\n",
    "filenames = ['NY_NewYork01.txt', 'NY_NewYork02.txt', 'NY_NewYork03.txt']\n",
    "\n",
    "# Open the output file in write mode, specifying UTF-8 encoding\n",
    "with open('New_Space_NY_NewYork.txt', 'w', encoding='utf-8') as outfile:\n",
    "    # Iterate through the list of files\n",
    "    for fname in filenames:\n",
    "        # Open each file in read mode, specifying UTF-8 encoding\n",
    "        with open(fname, encoding='utf-8') as infile:\n",
    "            # Read the content of the file and write it to the output file\n",
    "            outfile.write(infile.read())\n",
    "            # Optionally, write a newline character after each file's content\n",
    "            outfile.write('\\n')"
   ]
  },
  {
   "cell_type": "code",
   "execution_count": null,
   "metadata": {},
   "outputs": [],
   "source": []
  }
 ],
 "metadata": {
  "kernelspec": {
   "display_name": "Python 3",
   "language": "python",
   "name": "python3"
  },
  "language_info": {
   "codemirror_mode": {
    "name": "ipython",
    "version": 3
   },
   "file_extension": ".py",
   "mimetype": "text/x-python",
   "name": "python",
   "nbconvert_exporter": "python",
   "pygments_lexer": "ipython3",
   "version": "3.11.9"
  }
 },
 "nbformat": 4,
 "nbformat_minor": 2
}
