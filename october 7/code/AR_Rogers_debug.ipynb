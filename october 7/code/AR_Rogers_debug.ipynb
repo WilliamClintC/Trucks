{
 "cells": [
  {
   "cell_type": "code",
   "execution_count": 11,
   "metadata": {},
   "outputs": [
    {
     "name": "stdout",
     "output_type": "stream",
     "text": [
      "Pattern not found in C:\\Users\\clint\\Desktop\\Trucks\\Trucks\\nzlud\\municipal_codes_all\\real\\set1\\AR_Rogers.txt\n"
     ]
    }
   ],
   "source": [
    "import os\n",
    "import re\n",
    "import chardet\n",
    "\n",
    "pattern = re.compile(r\"(?i)^\\d+\\.\\d+\\.\\d+|^sec\\. \\d+-\\d+[A-Z]?-\\d+|^naics \\d+|^section \\d+|^§ \\d+\\.\\d+|^� \\d+-\\d+-\\d+\")\n",
    "\n",
    "def detect_encoding(filepath):\n",
    "    with open(filepath, 'rb') as file:\n",
    "        raw_data = file.read()\n",
    "        result = chardet.detect(raw_data)\n",
    "        encoding = result['encoding']\n",
    "        return encoding\n",
    "\n",
    "def add_multiline_flag(pattern):\n",
    "    return re.compile(pattern.pattern, re.MULTILINE | re.IGNORECASE)\n",
    "\n",
    "modified_pattern = add_multiline_flag(pattern)\n",
    "\n",
    "def clean_line(line):\n",
    "    line = re.sub(r'[^\\x00-\\x7f]', r' ', line)\n",
    "    line = line.lower()\n",
    "    line = re.sub(r'[\",!?*\\[\\]]', '', line)\n",
    "    line = re.sub(r';', ' ', line)\n",
    "    line = re.sub(r'\\\\', '', line)\n",
    "    return line\n",
    "\n",
    "def check_pattern_in_file(file_path):\n",
    "    global modified_pattern\n",
    "    with open(file_path, 'r', encoding=detect_encoding(file_path), errors='replace') as file:\n",
    "        contents = file.read()\n",
    "        contents = clean_line(contents)\n",
    "        if not modified_pattern.search(contents):\n",
    "            print(f\"Pattern not found in {file_path}\")\n",
    "        else:\n",
    "            print(f\"Pattern found in {file_path}\")\n",
    "\n",
    "# Specific file path\n",
    "file_path = r'C:\\Users\\clint\\Desktop\\Trucks\\Trucks\\nzlud\\municipal_codes_all\\real\\set1\\AR_Rogers.txt'\n",
    "\n",
    "# Check pattern in the specific file\n",
    "check_pattern_in_file(file_path)"
   ]
  },
  {
   "cell_type": "code",
   "execution_count": 22,
   "metadata": {},
   "outputs": [
    {
     "name": "stdout",
     "output_type": "stream",
     "text": [
      "Detected encoding: utf-8\n",
      "Original contents: CODE OF ORDINANCES CITY OF ROGERS, ARKANSAS \n",
      "____________ \n",
      "Adopted: January 12, 2010 \n",
      "____________ \n",
      "\n",
      "Cleaned contents: code of ordinances city of rogers arkansas \n",
      "____________ \n",
      "adopted: january 12 2010 \n",
      "____________ \n",
      "pu\n",
      "Original contents contain the text: sec. 6-161.\n",
      "Cleaned contents contain the text: sec. 6-161.\n",
      "Pattern does not match the cleaned contents.\n",
      "Pattern not found in C:\\Users\\clint\\Desktop\\Trucks\\Trucks\\nzlud\\municipal_codes_all\\real\\set1\\AR_Rogers.txt\n"
     ]
    }
   ],
   "source": [
    "import os\n",
    "import re\n",
    "import chardet\n",
    "\n",
    "pattern = re.compile(r\"(?i)^\\d+\\.\\d+\\.\\d+|^sec\\. \\d+-\\d+[A-Z]?-\\d+|^naics \\d+|^section \\d+|^§ \\d+\\.\\d+|^� \\d+-\\d+-\\d+\")\n",
    "\n",
    "def detect_encoding(filepath):\n",
    "    with open(filepath, 'rb') as file:\n",
    "        raw_data = file.read()\n",
    "        result = chardet.detect(raw_data)\n",
    "        encoding = result['encoding']\n",
    "        print(f\"Detected encoding: {encoding}\")  # Debug print\n",
    "        return encoding\n",
    "\n",
    "def add_multiline_flag(pattern):\n",
    "    return re.compile(pattern.pattern, re.MULTILINE | re.IGNORECASE)\n",
    "\n",
    "modified_pattern = add_multiline_flag(pattern)\n",
    "\n",
    "def clean_line(line):\n",
    "    line = re.sub(r'[^\\x00-\\x7f]', r' ', line)\n",
    "    line = line.lower()\n",
    "    line = re.sub(r'[\",!?*\\[\\]]', '', line)\n",
    "    line = re.sub(r';', ' ', line)\n",
    "    line = re.sub(r'\\\\', '', line)\n",
    "    return line\n",
    "\n",
    "def check_pattern_in_file(file_path):\n",
    "    global modified_pattern\n",
    "    text_to_find = \"sec. 6-161.\"\n",
    "    with open(file_path, 'r', encoding=detect_encoding(file_path), errors='replace') as file:\n",
    "        contents = file.read()\n",
    "        print(f\"Original contents: {contents[:100]}\")  # Debug print\n",
    "        contents = clean_line(contents)\n",
    "        print(f\"Cleaned contents: {contents[:100]}\")  # Debug print\n",
    "        check_text_and_pattern(contents, modified_pattern, text_to_find)\n",
    "        if not modified_pattern.search(contents):\n",
    "            print(f\"Pattern not found in {file_path}\")\n",
    "        else:\n",
    "            print(f\"Pattern found in {file_path}\")\n",
    "\n",
    "# Specific file path\n",
    "file_path = r'C:\\Users\\clint\\Desktop\\Trucks\\Trucks\\nzlud\\municipal_codes_all\\real\\set1\\AR_Rogers.txt'\n",
    "\n",
    "# Check pattern in the specific file\n",
    "check_pattern_in_file(file_path)"
   ]
  },
  {
   "cell_type": "code",
   "execution_count": 15,
   "metadata": {},
   "outputs": [],
   "source": [
    "import re\n",
    "\n",
    "def check_text_and_pattern(contents, pattern, text_to_find):\n",
    "    # Check if the original contents contain the text\n",
    "    if text_to_find in contents:\n",
    "        print(f\"Original contents contain the text: {text_to_find}\")\n",
    "    else:\n",
    "        print(f\"Original contents do not contain the text: {text_to_find}\")\n",
    "\n",
    "    # Clean the contents\n",
    "    cleaned_contents = clean_line(contents)\n",
    "\n",
    "    # Check if the cleaned contents contain the text\n",
    "    if text_to_find.lower() in cleaned_contents:\n",
    "        print(f\"Cleaned contents contain the text: {text_to_find.lower()}\")\n",
    "    else:\n",
    "        print(f\"Cleaned contents do not contain the text: {text_to_find.lower()}\")\n",
    "\n",
    "    # Verify the regular expression pattern\n",
    "    if pattern.search(cleaned_contents):\n",
    "        print(f\"Pattern matches the cleaned contents.\")\n",
    "    else:\n",
    "        print(f\"Pattern does not match the cleaned contents.\")\n",
    "\n"
   ]
  },
  {
   "cell_type": "code",
   "execution_count": null,
   "metadata": {},
   "outputs": [],
   "source": []
  }
 ],
 "metadata": {
  "kernelspec": {
   "display_name": "Python 3",
   "language": "python",
   "name": "python3"
  },
  "language_info": {
   "codemirror_mode": {
    "name": "ipython",
    "version": 3
   },
   "file_extension": ".py",
   "mimetype": "text/x-python",
   "name": "python",
   "nbconvert_exporter": "python",
   "pygments_lexer": "ipython3",
   "version": "3.11.9"
  }
 },
 "nbformat": 4,
 "nbformat_minor": 2
}
