{
 "cells": [
  {
   "cell_type": "markdown",
   "metadata": {},
   "source": [
    "**Process**\n",
    "\n",
    "1. open text file\n",
    "\n",
    "2. record the section header pattern number.number.number\n",
    "\n",
    "3. if a section (A) is found within another section (B). A will be copied into B."
   ]
  },
  {
   "cell_type": "code",
   "execution_count": 4,
   "metadata": {},
   "outputs": [
    {
     "data": {
      "text/plain": [
       "{'/restricted/projectnb/trucks/William/Mleczko_and_Desmond/nzlud/municipal_codes_all/10/CT_Farmington.txt',\n",
       " '/restricted/projectnb/trucks/William/Mleczko_and_Desmond/nzlud/municipal_codes_all/11/MO_Buckner.txt',\n",
       " '/restricted/projectnb/trucks/William/Mleczko_and_Desmond/nzlud/municipal_codes_all/12/OH_Brooklyn.txt',\n",
       " '/restricted/projectnb/trucks/William/Mleczko_and_Desmond/nzlud/municipal_codes_all/13/WA_Chehalis.txt',\n",
       " '/restricted/projectnb/trucks/William/Mleczko_and_Desmond/nzlud/municipal_codes_all/14/CA_Blythe.txt',\n",
       " '/restricted/projectnb/trucks/William/Mleczko_and_Desmond/nzlud/municipal_codes_all/15/SD_Huron.txt',\n",
       " '/restricted/projectnb/trucks/William/Mleczko_and_Desmond/nzlud/municipal_codes_all/16/OR_Portland.txt',\n",
       " '/restricted/projectnb/trucks/William/Mleczko_and_Desmond/nzlud/municipal_codes_all/17/MI_Hastings.txt',\n",
       " '/restricted/projectnb/trucks/William/Mleczko_and_Desmond/nzlud/municipal_codes_all/2/CA_PortolaValley.txt',\n",
       " '/restricted/projectnb/trucks/William/Mleczko_and_Desmond/nzlud/municipal_codes_all/20/PA_Concord.txt',\n",
       " '/restricted/projectnb/trucks/William/Mleczko_and_Desmond/nzlud/municipal_codes_all/21/OH_Springfield.txt',\n",
       " '/restricted/projectnb/trucks/William/Mleczko_and_Desmond/nzlud/municipal_codes_all/22/CT_Griswold.txt',\n",
       " '/restricted/projectnb/trucks/William/Mleczko_and_Desmond/nzlud/municipal_codes_all/23/MO_StJoseph.txt',\n",
       " '/restricted/projectnb/trucks/William/Mleczko_and_Desmond/nzlud/municipal_codes_all/24/CA_Calistoga.txt',\n",
       " '/restricted/projectnb/trucks/William/Mleczko_and_Desmond/nzlud/municipal_codes_all/26/GA_WarnerRobins.txt',\n",
       " '/restricted/projectnb/trucks/William/Mleczko_and_Desmond/nzlud/municipal_codes_all/27/AZ_Phoenix.txt',\n",
       " '/restricted/projectnb/trucks/William/Mleczko_and_Desmond/nzlud/municipal_codes_all/28/AZ_LakeHavasuCity.txt',\n",
       " '/restricted/projectnb/trucks/William/Mleczko_and_Desmond/nzlud/municipal_codes_all/29/AZ_Mesa.txt',\n",
       " '/restricted/projectnb/trucks/William/Mleczko_and_Desmond/nzlud/municipal_codes_all/3/IL_Itasca.txt',\n",
       " '/restricted/projectnb/trucks/William/Mleczko_and_Desmond/nzlud/municipal_codes_all/31/CA_SanBuenaventura.txt',\n",
       " '/restricted/projectnb/trucks/William/Mleczko_and_Desmond/nzlud/municipal_codes_all/32/KY_Elizabethtown.txt',\n",
       " '/restricted/projectnb/trucks/William/Mleczko_and_Desmond/nzlud/municipal_codes_all/33/CO_CanonCity.txt',\n",
       " '/restricted/projectnb/trucks/William/Mleczko_and_Desmond/nzlud/municipal_codes_all/34/IL_HoffmanEstates.txt',\n",
       " '/restricted/projectnb/trucks/William/Mleczko_and_Desmond/nzlud/municipal_codes_all/35/NM_Belen.txt',\n",
       " '/restricted/projectnb/trucks/William/Mleczko_and_Desmond/nzlud/municipal_codes_all/36/GA_Suwanee.txt',\n",
       " '/restricted/projectnb/trucks/William/Mleczko_and_Desmond/nzlud/municipal_codes_all/37/OH_YellowSprings.txt',\n",
       " '/restricted/projectnb/trucks/William/Mleczko_and_Desmond/nzlud/municipal_codes_all/39/CA_Norco.txt',\n",
       " '/restricted/projectnb/trucks/William/Mleczko_and_Desmond/nzlud/municipal_codes_all/40/CA_Waterford.txt',\n",
       " '/restricted/projectnb/trucks/William/Mleczko_and_Desmond/nzlud/municipal_codes_all/42/VA_Charlottesville.txt',\n",
       " '/restricted/projectnb/trucks/William/Mleczko_and_Desmond/nzlud/municipal_codes_all/44/CA_PalmDesert.txt',\n",
       " '/restricted/projectnb/trucks/William/Mleczko_and_Desmond/nzlud/municipal_codes_all/46/OK_OklahomaCity.txt',\n",
       " '/restricted/projectnb/trucks/William/Mleczko_and_Desmond/nzlud/municipal_codes_all/48/SC_MyrtleBeach.txt',\n",
       " '/restricted/projectnb/trucks/William/Mleczko_and_Desmond/nzlud/municipal_codes_all/5/CT_GrotonTown.txt',\n",
       " '/restricted/projectnb/trucks/William/Mleczko_and_Desmond/nzlud/municipal_codes_all/52/PA_ManheimTownship.txt',\n",
       " '/restricted/projectnb/trucks/William/Mleczko_and_Desmond/nzlud/municipal_codes_all/53/CA_SanFrancisco.txt',\n",
       " '/restricted/projectnb/trucks/William/Mleczko_and_Desmond/nzlud/municipal_codes_all/55/NY_NewYork.txt',\n",
       " '/restricted/projectnb/trucks/William/Mleczko_and_Desmond/nzlud/municipal_codes_all/56/PA_NewtownBucks.txt',\n",
       " '/restricted/projectnb/trucks/William/Mleczko_and_Desmond/nzlud/municipal_codes_all/57/WI_Sturtevant.txt',\n",
       " '/restricted/projectnb/trucks/William/Mleczko_and_Desmond/nzlud/municipal_codes_all/6/DE_Smyrna.txt',\n",
       " '/restricted/projectnb/trucks/William/Mleczko_and_Desmond/nzlud/municipal_codes_all/7/OR_HappyValley.txt',\n",
       " '/restricted/projectnb/trucks/William/Mleczko_and_Desmond/nzlud/municipal_codes_all/8/TX_Burleson.txt',\n",
       " 'AZ_LakeHavasuCity',\n",
       " 'AZ_Mesa',\n",
       " 'AZ_Phoenix',\n",
       " 'CA_Blythe',\n",
       " 'CA_Calistoga',\n",
       " 'CA_Norco',\n",
       " 'CA_PalmDesert',\n",
       " 'CA_PortolaValley',\n",
       " 'CA_SanBuenaventura',\n",
       " 'CA_SanFrancisco',\n",
       " 'CA_Waterford',\n",
       " 'CO_CanonCity',\n",
       " 'CT_Farmington',\n",
       " 'CT_Griswold',\n",
       " 'CT_GrotonTown',\n",
       " 'DE_Smyrna',\n",
       " 'GA_Suwanee',\n",
       " 'GA_WarnerRobins',\n",
       " 'IL_HoffmanEstates',\n",
       " 'IL_Itasca',\n",
       " 'KY_Elizabethtown',\n",
       " 'MI_Hastings',\n",
       " 'MO_Buckner',\n",
       " 'MO_StJoseph',\n",
       " 'NM_Belen',\n",
       " 'NY_NewYork',\n",
       " 'OH_Springfield',\n",
       " 'OH_YellowSprings',\n",
       " 'OK_OklahomaCity',\n",
       " 'OR_HappyValley',\n",
       " 'OR_Portland',\n",
       " 'PA_Concord',\n",
       " 'PA_ManheimTownship',\n",
       " 'PA_NewtownBucks',\n",
       " 'SC_MyrtleBeach',\n",
       " 'SD_Huron',\n",
       " 'TX_Burleson',\n",
       " 'WA_Chehalis',\n",
       " 'WI_Sturtevant'}"
      ]
     },
     "execution_count": 4,
     "metadata": {},
     "output_type": "execute_result"
    }
   ],
   "source": [
    "import pickle\n",
    "\n",
    "with open('grouped_text_complete.pkl', 'rb') as file:\n",
    "    grouped_text_complete_data = pickle.load(file)\n",
    "\n",
    "grouped_text_complete_data\n",
    "# Extract the 'Zoning Location' values\n",
    "zoning_locations = [entry['Zoning Location'] for entry in grouped_text_complete_data]\n",
    "\n",
    "\n",
    "# Find the unique entries\n",
    "unique_zoning_locations = set(zoning_locations)\n",
    "\n",
    "unique_zoning_locations\n"
   ]
  },
  {
   "cell_type": "code",
   "execution_count": null,
   "metadata": {},
   "outputs": [],
   "source": [
    "\n",
    "\n",
    "num_items = len(unique_zoning_locations)\n",
    "print(num_items)"
   ]
  },
  {
   "cell_type": "code",
   "execution_count": 3,
   "metadata": {},
   "outputs": [
    {
     "data": {
      "text/plain": [
       "{'AK_Anchorage',\n",
       " 'C:\\\\Users\\\\clint\\\\Desktop\\\\Trucks\\\\Trucks\\\\nzlud\\\\municipal_codes_all\\\\real\\\\set1\\\\AK_Anchorage.txt'}"
      ]
     },
     "execution_count": 3,
     "metadata": {},
     "output_type": "execute_result"
    }
   ],
   "source": [
    "import pickle\n",
    "\n",
    "with open('grouped_text.pkl', 'rb') as file:\n",
    "    grouped_text_complete_data = pickle.load(file)\n",
    "\n",
    "grouped_text_complete_data\n",
    "# Extract the 'Zoning Location' values\n",
    "zoning_locations = [entry['Zoning Location'] for entry in grouped_text_complete_data]\n",
    "\n",
    "\n",
    "# Find the unique entries\n",
    "unique_zoning_locations = set(zoning_locations)\n",
    "\n",
    "unique_zoning_locations\n"
   ]
  },
  {
   "cell_type": "code",
   "execution_count": null,
   "metadata": {},
   "outputs": [],
   "source": [
    "\n",
    "\n",
    "num_items = len(unique_zoning_locations)\n",
    "print(num_items)"
   ]
  },
  {
   "cell_type": "code",
   "execution_count": null,
   "metadata": {},
   "outputs": [],
   "source": [
    "\n",
    "import re\n",
    "import pickle\n",
    "\n",
    "# Load the pickle file\n",
    "with open('grouped_text.pkl', 'rb') as file:\n",
    "    data = pickle.load(file)\n"
   ]
  },
  {
   "cell_type": "code",
   "execution_count": null,
   "metadata": {},
   "outputs": [],
   "source": [
    "\n",
    "# Function to find and replace patterns\n",
    "def replace_patterns(data):\n",
    "    pattern = re.compile(r'\\d+\\.\\d+\\.\\d+')\n",
    "    \n",
    "    for entry in data:\n",
    "        text = entry.get('Text')\n",
    "        matches = pattern.findall(text)\n",
    "        \n",
    "        for match in matches:\n",
    "            collected_texts = []\n",
    "            for section_entry in data:\n",
    "                section = section_entry.get('Section')\n",
    "                if match in section:\n",
    "                    collected_texts.append(section_entry.get('Text'))\n",
    "            replacement_text = ' '.join(collected_texts)\n",
    "            text = text.replace(match, replacement_text)\n",
    "        entry['Text'] = text\n",
    "\n",
    "    with open('modified_grouped_text.pkl', 'ab') as file:\n",
    "        pickle.dump(data, file)\n",
    "\n",
    "#clear the file\n",
    "with open(\"modified_grouped_text.pkl\", 'wb') as pkl_file:\n",
    "    pass  # This will clear the file\n",
    "# Replace patterns in the data\n",
    "replace_patterns(data)"
   ]
  }
 ],
 "metadata": {
  "kernelspec": {
   "display_name": "Python 3",
   "language": "python",
   "name": "python3"
  },
  "language_info": {
   "codemirror_mode": {
    "name": "ipython",
    "version": 3
   },
   "file_extension": ".py",
   "mimetype": "text/x-python",
   "name": "python",
   "nbconvert_exporter": "python",
   "pygments_lexer": "ipython3",
   "version": "3.11.9"
  }
 },
 "nbformat": 4,
 "nbformat_minor": 2
}
