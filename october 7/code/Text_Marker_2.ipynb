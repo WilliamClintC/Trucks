{
 "cells": [
  {
   "cell_type": "markdown",
   "metadata": {},
   "source": [
    "**Process**\n",
    "\n",
    "1. open text file\n",
    "\n",
    "2. record the section header pattern number.number.number\n",
    "\n",
    "3. if a section (A) is found within another section (B). A will be copied into B."
   ]
  },
  {
   "cell_type": "code",
   "execution_count": 7,
   "metadata": {},
   "outputs": [],
   "source": [
    "import re\n",
    "import pickle\n",
    "\n",
    "def text_collect(filename):\n",
    "    pattern = re.compile(r\"^\\d+\\.\\d+\\.\\d+\")\n",
    "    sections = []\n",
    "    current_section = None\n",
    "    collected_text = []\n",
    "\n",
    "    with open(filename, 'r', encoding='utf-8') as file:\n",
    "        for line in file:\n",
    "            match = pattern.match(line)\n",
    "            if match:\n",
    "                if current_section:\n",
    "                    sections.append({\n",
    "                        \"Section\": current_section,\n",
    "                        \"Text\": ' '.join(collected_text),\n",
    "                        \"Zoning Location\": filename\n",
    "                    })\n",
    "                current_section = match.group()\n",
    "                collected_text = [line[len(current_section):].strip()]\n",
    "            elif current_section:\n",
    "                collected_text.append(line.strip())\n",
    "\n",
    "        if current_section:\n",
    "            sections.append({\n",
    "                \"Section\": current_section,\n",
    "                \"Text\": ' '.join(collected_text),\n",
    "                \"Zoning Location\": filename\n",
    "            })\n",
    "\n",
    "    with open(f\"grouped_text.pkl\", 'ab') as pkl_file:\n",
    "        pickle.dump(sections, pkl_file)\n",
    "\n",
    "#clear the file\n",
    "with open(\"grouped_text.pkl\", 'wb') as pkl_file:\n",
    "    pass  # This will clear the file\n"
   ]
  },
  {
   "cell_type": "code",
   "execution_count": 8,
   "metadata": {},
   "outputs": [],
   "source": [
    "text_collect('AK_Homer.txt')"
   ]
  },
  {
   "cell_type": "code",
   "execution_count": null,
   "metadata": {},
   "outputs": [],
   "source": []
  },
  {
   "cell_type": "code",
   "execution_count": 3,
   "metadata": {},
   "outputs": [],
   "source": [
    "import re\n",
    "import pickle\n",
    "\n",
    "# Load the pickle file\n",
    "with open('grouped_text.pkl', 'rb') as file:\n",
    "    data = pickle.load(file)\n",
    "\n",
    "# Function to find and replace patterns\n",
    "def replace_patterns(data):\n",
    "    pattern = re.compile(r'\\d+\\.\\d+\\.\\d+')\n",
    "    \n",
    "    for entry in data:\n",
    "        text = entry.get('Text')\n",
    "        matches = pattern.findall(text)\n",
    "        \n",
    "        for match in matches:\n",
    "            collected_texts = []\n",
    "            for section_entry in data:\n",
    "                section = section_entry.get('Section')\n",
    "                if match in section:\n",
    "                    collected_texts.append(section_entry.get('Text'))\n",
    "            replacement_text = ' '.join(collected_texts)\n",
    "            text = text.replace(match, replacement_text)\n",
    "        entry['Text'] = text\n",
    "\n",
    "    with open('modified_grouped_text.pkl', 'ab') as file:\n",
    "        pickle.dump(data, file)\n",
    "\n",
    "#clear the file\n",
    "with open(\"modified_grouped_text.pkl\", 'wb') as pkl_file:\n",
    "    pass  # This will clear the file"
   ]
  },
  {
   "cell_type": "code",
   "execution_count": null,
   "metadata": {},
   "outputs": [],
   "source": [
    "# Replace patterns in the data\n",
    "replace_patterns(data)"
   ]
  }
 ],
 "metadata": {
  "kernelspec": {
   "display_name": "Python 3",
   "language": "python",
   "name": "python3"
  },
  "language_info": {
   "codemirror_mode": {
    "name": "ipython",
    "version": 3
   },
   "file_extension": ".py",
   "mimetype": "text/x-python",
   "name": "python",
   "nbconvert_exporter": "python",
   "pygments_lexer": "ipython3",
   "version": "3.11.9"
  }
 },
 "nbformat": 4,
 "nbformat_minor": 2
}
