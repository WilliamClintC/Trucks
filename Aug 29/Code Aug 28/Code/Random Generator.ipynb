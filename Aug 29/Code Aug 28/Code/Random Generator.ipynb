{
 "cells": [
  {
   "cell_type": "code",
   "execution_count": 1,
   "metadata": {},
   "outputs": [
    {
     "data": {
      "text/plain": [
       "[56,\n",
       " 23,\n",
       " 14,\n",
       " 54,\n",
       " 67,\n",
       " 74,\n",
       " 59,\n",
       " 93,\n",
       " 91,\n",
       " 46,\n",
       " 97,\n",
       " 35,\n",
       " 41,\n",
       " 58,\n",
       " 47,\n",
       " 37,\n",
       " 35,\n",
       " 79,\n",
       " 24,\n",
       " 38]"
      ]
     },
     "execution_count": 1,
     "metadata": {},
     "output_type": "execute_result"
    }
   ],
   "source": [
    "import random\n",
    "\n",
    "random_numbers = [random.randint(1, 100) for _ in range(20)]\n",
    "random_numbers"
   ]
  },
  {
   "cell_type": "code",
   "execution_count": 2,
   "metadata": {},
   "outputs": [
    {
     "data": {
      "text/plain": [
       "[14,\n",
       " 23,\n",
       " 24,\n",
       " 35,\n",
       " 35,\n",
       " 37,\n",
       " 38,\n",
       " 41,\n",
       " 46,\n",
       " 47,\n",
       " 54,\n",
       " 56,\n",
       " 58,\n",
       " 59,\n",
       " 67,\n",
       " 74,\n",
       " 79,\n",
       " 91,\n",
       " 93,\n",
       " 97]"
      ]
     },
     "execution_count": 2,
     "metadata": {},
     "output_type": "execute_result"
    }
   ],
   "source": [
    "ordered_numbers = sorted(random_numbers)\n",
    "ordered_numbers"
   ]
  },
  {
   "cell_type": "code",
   "execution_count": null,
   "metadata": {},
   "outputs": [],
   "source": []
  }
 ],
 "metadata": {
  "kernelspec": {
   "display_name": "Python 3",
   "language": "python",
   "name": "python3"
  },
  "language_info": {
   "codemirror_mode": {
    "name": "ipython",
    "version": 3
   },
   "file_extension": ".py",
   "mimetype": "text/x-python",
   "name": "python",
   "nbconvert_exporter": "python",
   "pygments_lexer": "ipython3",
   "version": "3.11.9"
  }
 },
 "nbformat": 4,
 "nbformat_minor": 2
}
